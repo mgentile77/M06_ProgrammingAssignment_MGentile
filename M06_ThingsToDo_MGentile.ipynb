{
 "cells": [
  {
   "cell_type": "markdown",
   "metadata": {},
   "source": [
    "Question 13.1"
   ]
  },
  {
   "cell_type": "code",
   "execution_count": null,
   "metadata": {},
   "outputs": [],
   "source": [
    "# Writing the current date as a string to the text file today.txt\n",
    "\n",
    "from datetime import datetime\n",
    "\n",
    "# Get the current date in string format\n",
    "current_date = datetime.now().strftime(\"%Y-%m-%d\")\n",
    "\n",
    "# Define the file path\n",
    "file_path = 'today.txt'\n",
    "\n",
    "# Write the date to the file\n",
    "with open(file_path, 'w') as file:\n",
    "    file.write(current_date)\n",
    "\n",
    "file_path\n"
   ]
  },
  {
   "cell_type": "markdown",
   "metadata": {},
   "source": [
    "Question 13.2"
   ]
  },
  {
   "cell_type": "code",
   "execution_count": null,
   "metadata": {},
   "outputs": [],
   "source": [
    "# Reading the content of the text file today.txt into the string today_string\n",
    "\n",
    "# Read the content of the file\n",
    "with open(file_path, 'r') as file:\n",
    "    today_string = file.read()\n",
    "\n",
    "today_string\n"
   ]
  },
  {
   "cell_type": "markdown",
   "metadata": {},
   "source": [
    "Question 13.3"
   ]
  },
  {
   "cell_type": "code",
   "execution_count": null,
   "metadata": {},
   "outputs": [],
   "source": [
    "from datetime import date\n",
    "\n",
    "# Creating a date object for the date of birth: November 2, 1977\n",
    "dob = date(1977, 11, 2)\n",
    "dob\n"
   ]
  },
  {
   "cell_type": "markdown",
   "metadata": {},
   "source": [
    "Question 15.1"
   ]
  },
  {
   "cell_type": "code",
   "execution_count": 7,
   "metadata": {},
   "outputs": [],
   "source": [
    "import multiprocessing\n",
    "import time\n",
    "import random\n",
    "\n",
    "def process_task(queue, process_number):\n",
    "    # Wait a random number of seconds between 0 and 1\n",
    "    time.sleep(random.random())\n",
    "\n",
    "    # Get the current time\n",
    "    current_time = time.strftime(\"%Y-%m-%d %H:%M:%S\")\n",
    "\n",
    "    # Put the process number and current time in the queue\n",
    "    queue.put((process_number, current_time))\n",
    "\n",
    "if __name__ == \"__main__\":\n",
    "    # Create a multiprocessing Queue\n",
    "    output_queue = multiprocessing.Queue()\n",
    "\n",
    "    # Creating and starting three separate processes\n",
    "    processes = []\n",
    "    for i in range(3):\n",
    "        p = multiprocessing.Process(target=process_task, args=(output_queue, i))\n",
    "        processes.append(p)\n",
    "        p.start()\n",
    "\n",
    "    # Waiting for all processes to complete\n",
    "    for p in processes:\n",
    "        p.join()\n",
    "\n",
    "    # Collecting and displaying the output\n",
    "    while not output_queue.empty():\n",
    "        process_number, time_output = output_queue.get()\n",
    "        print(f\"Process {process_number} current time: {time_output}\")\n"
   ]
  }
 ],
 "metadata": {
  "kernelspec": {
   "display_name": "Python 3",
   "language": "python",
   "name": "python3"
  },
  "language_info": {
   "codemirror_mode": {
    "name": "ipython",
    "version": 3
   },
   "file_extension": ".py",
   "mimetype": "text/x-python",
   "name": "python",
   "nbconvert_exporter": "python",
   "pygments_lexer": "ipython3",
   "version": "3.11.2"
  }
 },
 "nbformat": 4,
 "nbformat_minor": 2
}
